{
 "cells": [
  {
   "cell_type": "code",
   "execution_count": 1,
   "id": "a97147eb",
   "metadata": {},
   "outputs": [
    {
     "data": {
      "application/json": {
       "current_state": "Loaded AiiDA DB environment - profile name: sssp-dev-test-00."
      },
      "text/html": [
       "<p>Loaded AiiDA DB environment - profile name: sssp-dev-test-00.</p>"
      ],
      "text/latex": [
       "Loaded AiiDA DB environment - profile name: sssp-dev-test-00.\n"
      ],
      "text/plain": [
       "Loaded AiiDA DB environment - profile name: sssp-dev-test-00.\n"
      ]
     },
     "execution_count": 1,
     "metadata": {},
     "output_type": "execute_result"
    }
   ],
   "source": [
    "%load_ext aiida\n",
    "%aiida"
   ]
  },
  {
   "cell_type": "code",
   "execution_count": 2,
   "id": "51d52875",
   "metadata": {},
   "outputs": [],
   "source": [
    "band_wc01 = load_node(3133)\n",
    "band_wc02 = load_node(3177)"
   ]
  },
  {
   "cell_type": "code",
   "execution_count": 3,
   "id": "5d3b8fee",
   "metadata": {},
   "outputs": [],
   "source": [
    "from aiida import orm\n",
    "from aiida_sssp_workflow.workflows.convergence.bands import helper_bands_distence_difference"
   ]
  },
  {
   "cell_type": "code",
   "execution_count": 4,
   "id": "8cc84916",
   "metadata": {},
   "outputs": [],
   "source": [
    "band_parameters_a = band_wc01.outputs.bands.band_parameters\n",
    "band_parameters_b = band_wc02.outputs.bands.band_parameters\n",
    "band_structure_a = band_wc01.outputs.bands.band_structure\n",
    "band_structure_b = band_wc02.outputs.bands.band_structure\n",
    "\n",
    "smearing  = orm.Float(0.136056980659)\n",
    "fermi_shift = orm.Float(10)\n",
    "do_smearing = orm.Bool(True)\n",
    "spin = orm.Bool(False)"
   ]
  },
  {
   "cell_type": "code",
   "execution_count": 6,
   "id": "8549fd86",
   "metadata": {},
   "outputs": [
    {
     "name": "stdout",
     "output_type": "stream",
     "text": [
      "{'eta_c': 2094.3925369836, 'shift_c': 937.5, 'bands_unit': 'meV', 'max_diff_c': 7009.3501253661}\n"
     ]
    }
   ],
   "source": [
    "res = helper_bands_distence_difference(\n",
    "    band_structure_a,\n",
    "    band_parameters_a,\n",
    "    band_structure_b,\n",
    "    band_parameters_b,\n",
    "    smearing,\n",
    "    fermi_shift,\n",
    "    do_smearing,\n",
    "    spin,\n",
    ")\n",
    "\n",
    "print(res.get_dict())"
   ]
  },
  {
   "cell_type": "code",
   "execution_count": null,
   "id": "be3d5163",
   "metadata": {},
   "outputs": [],
   "source": []
  }
 ],
 "metadata": {
  "kernelspec": {
   "display_name": "Python 3 (ipykernel)",
   "language": "python",
   "name": "python3"
  },
  "language_info": {
   "codemirror_mode": {
    "name": "ipython",
    "version": 3
   },
   "file_extension": ".py",
   "mimetype": "text/x-python",
   "name": "python",
   "nbconvert_exporter": "python",
   "pygments_lexer": "ipython3",
   "version": "3.9.16"
  }
 },
 "nbformat": 4,
 "nbformat_minor": 5
}
