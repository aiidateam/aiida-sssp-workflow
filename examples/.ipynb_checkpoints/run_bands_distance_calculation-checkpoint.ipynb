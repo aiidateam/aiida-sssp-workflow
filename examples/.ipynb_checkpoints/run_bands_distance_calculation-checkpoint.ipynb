{
 "cells": [
  {
   "cell_type": "code",
   "execution_count": null,
   "id": "9cee1e87",
   "metadata": {},
   "outputs": [],
   "source": [
    "%load_ext aiida\n",
    "%aiida"
   ]
  },
  {
   "cell_type": "code",
   "execution_count": null,
   "id": "17deac4a",
   "metadata": {},
   "outputs": [],
   "source": [
    "band_wc01 = load_node(3781)\n",
    "# band_wc02 = load_node(3866)\n",
    "band_wc02 = load_node(3824)"
   ]
  },
  {
   "cell_type": "code",
   "execution_count": null,
   "id": "24681474",
   "metadata": {},
   "outputs": [],
   "source": [
    "from aiida import orm\n",
    "from aiida_sssp_workflow.workflows.convergence.bands import (\n",
    "    helper_bands_distence_difference,\n",
    ")"
   ]
  },
  {
   "cell_type": "code",
   "execution_count": null,
   "id": "531fb97d",
   "metadata": {},
   "outputs": [],
   "source": [
    "band_parameters_a = band_wc01.outputs.bands.band_parameters\n",
    "band_parameters_b = band_wc02.outputs.bands.band_parameters\n",
    "band_structure_a = band_wc01.outputs.bands.band_structure\n",
    "band_structure_b = band_wc02.outputs.bands.band_structure\n",
    "\n",
    "smearing = orm.Float(0.136056980659)\n",
    "fermi_shift = orm.Float(10)\n",
    "do_smearing = orm.Bool(True)\n",
    "spin = orm.Bool(False)"
   ]
  },
  {
   "cell_type": "code",
   "execution_count": null,
   "id": "d6dba316",
   "metadata": {},
   "outputs": [],
   "source": [
    "res = helper_bands_distence_difference(\n",
    "    band_structure_a,\n",
    "    band_parameters_a,\n",
    "    band_structure_b,\n",
    "    band_parameters_b,\n",
    "    smearing,\n",
    "    fermi_shift,\n",
    "    do_smearing,\n",
    "    spin,\n",
    ")\n",
    "\n",
    "print(res.get_dict())"
   ]
  },
  {
   "cell_type": "code",
   "execution_count": null,
   "id": "973e8f96",
   "metadata": {},
   "outputs": [],
   "source": []
  },
  {
   "cell_type": "code",
   "execution_count": null,
   "id": "f28f42b3",
   "metadata": {},
   "outputs": [],
   "source": []
  }
 ],
 "metadata": {
  "kernelspec": {
   "display_name": "Python 3 (ipykernel)",
   "language": "python",
   "name": "python3"
  },
  "language_info": {
   "codemirror_mode": {
    "name": "ipython",
    "version": 3
   },
   "file_extension": ".py",
   "mimetype": "text/x-python",
   "name": "python",
   "nbconvert_exporter": "python",
   "pygments_lexer": "ipython3",
   "version": "3.9.16"
  }
 },
 "nbformat": 4,
 "nbformat_minor": 5
}
