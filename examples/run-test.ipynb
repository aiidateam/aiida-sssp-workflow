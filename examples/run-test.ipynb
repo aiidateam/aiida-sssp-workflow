{
 "cells": [
  {
   "cell_type": "code",
   "execution_count": null,
   "metadata": {},
   "outputs": [],
   "source": [
    "from aiida.engine import calcfunction\n",
    "from aiida import orm\n",
    "import aiida\n",
    "\n",
    "aiida.load_profile(\"sg15-00\")\n",
    "\n",
    "\n",
    "@calcfunction\n",
    "def convergence_analysis(xy: orm.List, criteria: orm.Dict):\n",
    "    \"\"\"\n",
    "    xy is a list of xy tuple [(x1, y1), (x2, y2), ...] and\n",
    "    criteria is a dict of {'mode': 'a', 'bounds': (0.0, 0.2)}\n",
    "    \"\"\"\n",
    "    # sort xy\n",
    "    sorted_xy = sorted(xy.get_list(), key=lambda k: k[0], reverse=True)\n",
    "    criteria_dict = criteria.get_dict()\n",
    "    mode = criteria_dict[\"mode\"]\n",
    "    parameters = criteria_dict[\"parameters\"]\n",
    "\n",
    "    cutoff, value = sorted_xy[0]\n",
    "    if mode == 0:\n",
    "        bounds = parameters[\"bounds\"]\n",
    "        eps = parameters[\"eps\"]\n",
    "        # from max cutoff, after some x all y is out of bound\n",
    "        for x, y in sorted_xy:\n",
    "            if bounds[0] - eps < y < bounds[1] + eps:\n",
    "                cutoff, value = x, y\n",
    "            else:\n",
    "                break\n",
    "\n",
    "    return {\n",
    "        \"cutoff\": orm.Float(cutoff),\n",
    "        \"value\": orm.Float(value),\n",
    "    }"
   ]
  },
  {
   "cell_type": "code",
   "execution_count": null,
   "metadata": {},
   "outputs": [],
   "source": [
    "c = "
   ]
  }
 ],
 "metadata": {
  "interpreter": {
   "hash": "0c33c62f46c80a4d391ce479eab5c3aec4580598470db715974490e2fddfe22e"
  },
  "kernelspec": {
   "display_name": "Python 3.9.6 ('aiida-sssp-dev')",
   "language": "python",
   "name": "python3"
  },
  "language_info": {
   "codemirror_mode": {
    "name": "ipython",
    "version": 3
   },
   "file_extension": ".py",
   "mimetype": "text/x-python",
   "name": "python",
   "nbconvert_exporter": "python",
   "pygments_lexer": "ipython3",
   "version": "3.9.6"
  }
 },
 "nbformat": 4,
 "nbformat_minor": 2
}
