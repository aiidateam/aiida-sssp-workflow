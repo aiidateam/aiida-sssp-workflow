{
 "cells": [
  {
   "cell_type": "code",
   "execution_count": 1,
   "id": "9cee1e87",
   "metadata": {},
   "outputs": [
    {
     "name": "stdout",
     "output_type": "stream",
     "text": [
      "\u001b[93m\u001b[1mWarning\u001b[0m: \u001b[22mYou are currently using a post release development version of AiiDA: 2.2.2.post0\u001b[0m\n",
      "\u001b[93m\u001b[1mWarning\u001b[0m: \u001b[22mBe aware that this is not recommended for production and is not officially supported.\u001b[0m\n",
      "\u001b[93m\u001b[1mWarning\u001b[0m: \u001b[22mDatabases used with this version may not be compatible with future releases of AiiDA\u001b[0m\n",
      "\u001b[93m\u001b[1mWarning\u001b[0m: \u001b[22mas you might not be able to automatically migrate your data.\n",
      "\u001b[0m\n"
     ]
    },
    {
     "data": {
      "application/json": {
       "current_state": "Loaded AiiDA DB environment - profile name: sssp-dev-test-00."
      },
      "text/html": [
       "<p>Loaded AiiDA DB environment - profile name: sssp-dev-test-00.</p>"
      ],
      "text/latex": [
       "Loaded AiiDA DB environment - profile name: sssp-dev-test-00.\n"
      ],
      "text/plain": [
       "Loaded AiiDA DB environment - profile name: sssp-dev-test-00.\n"
      ]
     },
     "execution_count": 1,
     "metadata": {},
     "output_type": "execute_result"
    }
   ],
   "source": [
    "%load_ext aiida\n",
    "%aiida"
   ]
  },
  {
   "cell_type": "code",
   "execution_count": 2,
   "id": "17deac4a",
   "metadata": {},
   "outputs": [],
   "source": [
    "band_wc01 = load_node(3133)\n",
    "band_wc02 = load_node(3177)"
   ]
  },
  {
   "cell_type": "code",
   "execution_count": 3,
   "id": "24681474",
   "metadata": {},
   "outputs": [],
   "source": [
    "from aiida import orm\n",
    "from aiida_sssp_workflow.workflows.convergence.bands import helper_bands_distence_difference, helper_bands_distence_difference_new"
   ]
  },
  {
   "cell_type": "code",
   "execution_count": 4,
   "id": "531fb97d",
   "metadata": {},
   "outputs": [],
   "source": [
    "band_parameters_a = band_wc01.outputs.bands.band_parameters\n",
    "band_parameters_b = band_wc02.outputs.bands.band_parameters\n",
    "band_structure_a = band_wc01.outputs.bands.band_structure\n",
    "band_structure_b = band_wc02.outputs.bands.band_structure\n",
    "\n",
    "smearing  = orm.Float(0.136056980659)\n",
    "fermi_shift = orm.Float(10)\n",
    "do_smearing = orm.Bool(True)\n",
    "spin = orm.Bool(False)"
   ]
  },
  {
   "cell_type": "code",
   "execution_count": 5,
   "id": "d6dba316",
   "metadata": {},
   "outputs": [
    {
     "name": "stdout",
     "output_type": "stream",
     "text": [
      "6.5005106464143\n",
      "6.5015652792191\n",
      "{'eta_v': 0.21847987445715122, 'shift_v': -1.0, 'max_diff_v': 0.9904821794309839, 'eta_c': 2.094392536983644, 'shift_c': 0.9375, 'max_diff_c': 7.009350125366112, 'units': 'meV'}\n",
      "{'eta_c': 2.0943925369836, 'shift_c': 0.9375, 'bands_unit': 'meV', 'max_diff_c': 7.0093501253661}\n"
     ]
    }
   ],
   "source": [
    "res = helper_bands_distence_difference(\n",
    "    band_structure_a,\n",
    "    band_parameters_a,\n",
    "    band_structure_b,\n",
    "    band_parameters_b,\n",
    "    smearing,\n",
    "    fermi_shift,\n",
    "    do_smearing,\n",
    "    spin,\n",
    ")\n",
    "\n",
    "print(res.get_dict())"
   ]
  },
  {
   "cell_type": "code",
   "execution_count": 6,
   "id": "973e8f96",
   "metadata": {},
   "outputs": [
    {
     "name": "stdout",
     "output_type": "stream",
     "text": [
      "fermi level 6.5005106464143\n",
      "bands [[-12.2754338   -0.44706611  -0.44699843 ...   7.2478062    7.4314066\n",
      "   10.71246299]\n",
      " [-12.07495561  -2.04668643  -0.73259747 ...   6.77447441   8.2039584\n",
      "   10.1645919 ]\n",
      " [-11.49047543  -4.34632279  -1.1983715  ...   6.72659927   8.47371793\n",
      "   11.2551001 ]\n",
      " ...\n",
      " [ -9.61058962  -6.78380396  -3.92526478 ...  10.00219694  11.58600137\n",
      "   12.05738506]\n",
      " [ -9.9085852   -7.12079239  -2.70460435 ...   9.95938792  10.94499029\n",
      "   11.07327701]\n",
      " [ -9.99537477  -7.33216394  -1.63347695 ...  10.04006129  10.73403953\n",
      "   10.75243596]]\n",
      "fermi level 6.5015652792191\n",
      "bands [[-12.27668703  -0.44707563  -0.44707327 ...   7.25545754   7.43242832\n",
      "   10.71439867]\n",
      " [-12.07620826  -2.04740557  -0.73290731 ...   6.77928833   8.20500908\n",
      "   10.16631963]\n",
      " [-11.49171347  -4.34727714  -1.1989746  ...   6.73069107   8.47482579\n",
      "   11.25747229]\n",
      " ...\n",
      " [ -9.61178191  -6.78482717  -3.92623893 ...  10.00877583  11.59330376\n",
      "   12.0635151 ]\n",
      " [ -9.90978408  -7.1218253   -2.70547458 ...   9.96695821  10.94855365\n",
      "   11.07858201]\n",
      " [ -9.99659968  -7.33322277  -1.63433118 ...  10.04715925  10.73769076\n",
      "   10.75540736]]\n",
      "bands_a [[-12.2754338   -0.44706611  -0.44699843 ...   7.2478062    7.4314066\n",
      "   10.71246299]\n",
      " [-12.07495561  -2.04668643  -0.73259747 ...   6.77447441   8.2039584\n",
      "   10.1645919 ]\n",
      " [-11.49047543  -4.34632279  -1.1983715  ...   6.72659927   8.47371793\n",
      "   11.2551001 ]\n",
      " ...\n",
      " [ -9.61058962  -6.78380396  -3.92526478 ...  10.00219694  11.58600137\n",
      "   12.05738506]\n",
      " [ -9.9085852   -7.12079239  -2.70460435 ...   9.95938792  10.94499029\n",
      "   11.07327701]\n",
      " [ -9.99537477  -7.33216394  -1.63347695 ...  10.04006129  10.73403953\n",
      "   10.75243596]]\n",
      "bands_b [[-12.27668703  -0.44707563  -0.44707327 ...   7.25545754   7.43242832\n",
      "   10.71439867]\n",
      " [-12.07620826  -2.04740557  -0.73290731 ...   6.77928833   8.20500908\n",
      "   10.16631963]\n",
      " [-11.49171347  -4.34727714  -1.1989746  ...   6.73069107   8.47482579\n",
      "   11.25747229]\n",
      " ...\n",
      " [ -9.61178191  -6.78482717  -3.92623893 ...  10.00877583  11.59330376\n",
      "   12.0635151 ]\n",
      " [ -9.90978408  -7.1218253   -2.70547458 ...   9.96695821  10.94855365\n",
      "   11.07858201]\n",
      " [ -9.99659968  -7.33322277  -1.63433118 ...  10.04715925  10.73769076\n",
      "   10.75540736]]\n",
      "fermi_level_a 0.0\n",
      "fermi_level_b 0.0\n",
      "bands_a [[-12.2754338   -0.44706611  -0.44699843 ...   7.2478062    7.4314066\n",
      "   10.71246299]\n",
      " [-12.07495561  -2.04668643  -0.73259747 ...   6.77447441   8.2039584\n",
      "   10.1645919 ]\n",
      " [-11.49047543  -4.34632279  -1.1983715  ...   6.72659927   8.47371793\n",
      "   11.2551001 ]\n",
      " ...\n",
      " [ -9.61058962  -6.78380396  -3.92526478 ...  10.00219694  11.58600137\n",
      "   12.05738506]\n",
      " [ -9.9085852   -7.12079239  -2.70460435 ...   9.95938792  10.94499029\n",
      "   11.07327701]\n",
      " [ -9.99537477  -7.33216394  -1.63347695 ...  10.04006129  10.73403953\n",
      "   10.75243596]]\n",
      "bands_b [[-12.27668703  -0.44707563  -0.44707327 ...   7.25545754   7.43242832\n",
      "   10.71439867]\n",
      " [-12.07620826  -2.04740557  -0.73290731 ...   6.77928833   8.20500908\n",
      "   10.16631963]\n",
      " [-11.49171347  -4.34727714  -1.1989746  ...   6.73069107   8.47482579\n",
      "   11.25747229]\n",
      " ...\n",
      " [ -9.61178191  -6.78482717  -3.92623893 ...  10.00877583  11.59330376\n",
      "   12.0635151 ]\n",
      " [ -9.90978408  -7.1218253   -2.70547458 ...   9.96695821  10.94855365\n",
      "   11.07858201]\n",
      " [ -9.99659968  -7.33322277  -1.63433118 ...  10.04715925  10.73769076\n",
      "   10.75540736]]\n",
      "fermi_level_a 0.0\n",
      "fermi_level_b 0.0\n",
      "{'eta_v': 0.21847987445715122, 'shift_v': -1.0, 'max_diff_v': 0.9904821794309839, 'eta_c': 2.094392536983644, 'shift_c': 0.9375, 'max_diff_c': 7.009350125366112, 'units': 'meV'}\n",
      "{'eta_c': 2.0943925369836, 'shift_c': 0.9375, 'bands_unit': 'meV', 'max_diff_c': 7.0093501253661}\n"
     ]
    }
   ],
   "source": [
    "res = helper_bands_distence_difference_new(\n",
    "    band_structure_a,\n",
    "    band_parameters_a,\n",
    "    band_structure_b,\n",
    "    band_parameters_b,\n",
    "    smearing,\n",
    "    fermi_shift,\n",
    "    do_smearing,\n",
    "    spin,\n",
    ")\n",
    "\n",
    "print(res.get_dict())"
   ]
  },
  {
   "cell_type": "code",
   "execution_count": null,
   "id": "f28f42b3",
   "metadata": {},
   "outputs": [],
   "source": []
  }
 ],
 "metadata": {
  "kernelspec": {
   "display_name": "Python 3 (ipykernel)",
   "language": "python",
   "name": "python3"
  },
  "language_info": {
   "codemirror_mode": {
    "name": "ipython",
    "version": 3
   },
   "file_extension": ".py",
   "mimetype": "text/x-python",
   "name": "python",
   "nbconvert_exporter": "python",
   "pygments_lexer": "ipython3",
   "version": "3.9.16"
  }
 },
 "nbformat": 4,
 "nbformat_minor": 5
}
