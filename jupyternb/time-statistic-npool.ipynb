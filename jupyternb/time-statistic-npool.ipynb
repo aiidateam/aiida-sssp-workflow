{
 "cells": [
  {
   "cell_type": "code",
   "execution_count": 1,
   "metadata": {},
   "outputs": [
    {
     "data": {
      "text/plain": [
       "<aiida.manage.configuration.profile.Profile at 0x7f4189a78130>"
      ]
     },
     "execution_count": 1,
     "metadata": {},
     "output_type": "execute_result"
    }
   ],
   "source": [
    "import aiida\n",
    "\n",
    "aiida.load_profile('para-test')"
   ]
  },
  {
   "cell_type": "code",
   "execution_count": 3,
   "metadata": {},
   "outputs": [],
   "source": [
    "from aiida import orm"
   ]
  },
  {
   "cell_type": "markdown",
   "metadata": {},
   "source": [
    "```\n",
    " 859  Finished    sssp_workflow.verification  mg/nc/z=10/dojo/v04/npool-4              0\n",
    "3176  Finished    sssp_workflow.verification  si/nc/z=4/dojo/v04/npool-32              0\n",
    "3288  Finished    sssp_workflow.verification  si/nc/z=4/dojo/v04/npool-16              0\n",
    "3400  Finished    sssp_workflow.verification  si/nc/z=4/dojo/v04/npool-8               0\n",
    "3527  Finished    sssp_workflow.verification  si/paw/z=4/paw/v0.1/npool-4              0\n",
    "3647  Finished    sssp_workflow.verification  si/nc/z=4/dojo/v04/npool-4               0\n",
    "```"
   ]
  },
  {
   "cell_type": "code",
   "execution_count": 20,
   "metadata": {},
   "outputs": [
    {
     "name": "stdout",
     "output_type": "stream",
     "text": [
      "-------------------------------------\n",
      "mg/nc/z=10/dojo/v04/npool-4\n",
      "-- ConvergenceCohesiveEnergyWorkChain\n",
      "Pw time is: 864.24\n",
      "Pw num is:  42\n",
      "Ph time is: 0.0\n",
      "Ph num is:  0\n",
      "-- ConvergencePhononFrequenciesWorkChain\n",
      "Pw time is: 502.53\n",
      "Pw num is:  21\n",
      "Ph time is: 21160.260000000002\n",
      "Ph num is:  21\n",
      "-- ConvergencePressureWorkChain\n",
      "Pw time is: 1532.1900000000003\n",
      "Pw num is:  27\n",
      "Ph time is: 0.0\n",
      "Ph num is:  0\n",
      "-------------------------------------\n",
      "-------------------------------------\n",
      "si/nc/z=4/dojo/v04/npool-32\n",
      "-- ConvergenceCohesiveEnergyWorkChain\n",
      "Pw time is: 1338.82\n",
      "Pw num is:  42\n",
      "Ph time is: 0.0\n",
      "Ph num is:  0\n",
      "-- ConvergencePhononFrequenciesWorkChain\n",
      "Pw time is: 378.89\n",
      "Pw num is:  21\n",
      "Ph time is: 4882.22\n",
      "Ph num is:  21\n",
      "-- ConvergencePressureWorkChain\n",
      "Pw time is: 1026.37\n",
      "Pw num is:  28\n",
      "Ph time is: 0.0\n",
      "Ph num is:  0\n",
      "-------------------------------------\n",
      "-------------------------------------\n",
      "si/nc/z=4/dojo/v04/npool-16\n",
      "-- ConvergenceCohesiveEnergyWorkChain\n",
      "Pw time is: 1128.71\n",
      "Pw num is:  42\n",
      "Ph time is: 0.0\n",
      "Ph num is:  0\n",
      "-- ConvergencePhononFrequenciesWorkChain\n",
      "Pw time is: 414.57000000000005\n",
      "Pw num is:  21\n",
      "Ph time is: 5503.800000000001\n",
      "Ph num is:  21\n",
      "-- ConvergencePressureWorkChain\n",
      "Pw time is: 1192.3100000000004\n",
      "Pw num is:  28\n",
      "Ph time is: 0.0\n",
      "Ph num is:  0\n",
      "-------------------------------------\n",
      "-------------------------------------\n",
      "si/nc/z=4/dojo/v04/npool-8\n",
      "-- ConvergenceCohesiveEnergyWorkChain\n",
      "Pw time is: 810.9399999999997\n",
      "Pw num is:  42\n",
      "Ph time is: 0.0\n",
      "Ph num is:  0\n",
      "-- ConvergencePhononFrequenciesWorkChain\n",
      "Pw time is: 385.4599999999999\n",
      "Pw num is:  21\n",
      "Ph time is: 6588.569999999999\n",
      "Ph num is:  21\n",
      "-- ConvergencePressureWorkChain\n",
      "Pw time is: 965.0500000000001\n",
      "Pw num is:  28\n",
      "Ph time is: 0.0\n",
      "Ph num is:  0\n",
      "-------------------------------------\n",
      "-------------------------------------\n",
      "si/paw/z=4/paw/v0.1/npool-4\n",
      "-- ConvergenceCohesiveEnergyWorkChain\n",
      "Pw time is: 2824.9399999999996\n",
      "Pw num is:  52\n",
      "Ph time is: 0.0\n",
      "Ph num is:  0\n",
      "-- ConvergencePhononFrequenciesWorkChain\n",
      "Pw time is: 538.78\n",
      "Pw num is:  26\n",
      "Ph time is: 13773.699999999999\n",
      "Ph num is:  26\n",
      "-- ConvergencePressureWorkChain\n",
      "Pw time is: 918.9200000000004\n",
      "Pw num is:  33\n",
      "Ph time is: 0.0\n",
      "Ph num is:  0\n",
      "-------------------------------------\n",
      "-------------------------------------\n",
      "si/nc/z=4/dojo/v04/npool-4\n",
      "-- ConvergenceCohesiveEnergyWorkChain\n",
      "Pw time is: 690.3799999999999\n",
      "Pw num is:  42\n",
      "Ph time is: 0.0\n",
      "Ph num is:  0\n",
      "-- ConvergencePhononFrequenciesWorkChain\n",
      "Pw time is: 442.62\n",
      "Pw num is:  21\n",
      "Ph time is: 11558.189999999999\n",
      "Ph num is:  21\n",
      "-- ConvergencePressureWorkChain\n",
      "Pw time is: 892.1500000000002\n",
      "Pw num is:  28\n",
      "Ph time is: 0.0\n",
      "Ph num is:  0\n",
      "-------------------------------------\n"
     ]
    }
   ],
   "source": [
    "for pk in [859, 3176, 3288, 3400, 3527, 3647]:\n",
    "    n = orm.load_node(pk)\n",
    "    print('-------------------------------------')\n",
    "    print(n.description)\n",
    "    # get all called sub workflow\n",
    "    wfs = [i for i in n.called if 'WorkChainNode' in i.node_type]\n",
    "\n",
    "    for wf in wfs:\n",
    "        print('--', wf.attributes['process_label'])\n",
    "        \n",
    "        for c in ['Pw', 'Ph']:\n",
    "            all_calc = [pn for pn in wf.called_descendants if pn.attributes['process_label'] == f'{c}Calculation'] \n",
    "\n",
    "            time_collect = 0.0 # in seconds\n",
    "            for n in all_calc:\n",
    "                try:\n",
    "                    job_exec_time = n.res.wall_time_seconds\n",
    "                    job_exec_time += 2  # job preparation and proper termination time\n",
    "                    time_collect += job_exec_time\n",
    "                except:\n",
    "                    print(n)\n",
    "                else:\n",
    "                    pass\n",
    "\n",
    "            print(f'{c} time is:', time_collect)\n",
    "            print(f'{c} num is: ', len(all_calc))\n",
    "        \n",
    "    print('-------------------------------------')\n",
    "    "
   ]
  },
  {
   "cell_type": "code",
   "execution_count": 7,
   "metadata": {},
   "outputs": [
    {
     "data": {
      "text/plain": [
       "[<CalcFunctionNode: uuid: 009240d4-ee58-4a75-877a-0d88213a251f (pk: 3177) (aiida_sssp_workflow.workflows.verifications.parse_pseudo_info)>,\n",
       " <WorkChainNode: uuid: b339262e-3a42-4f06-b805-f589d845a517 (pk: 3182) (aiida.workflows:sssp_workflow.convergence.cohesive_energy)>,\n",
       " <WorkChainNode: uuid: 0066610d-d16a-4b93-b7ff-619516da28e1 (pk: 3183) (aiida.workflows:sssp_workflow.convergence.phonon_frequencies)>,\n",
       " <WorkChainNode: uuid: f41ca1b0-130c-4441-8455-e9f858b96955 (pk: 3185) (aiida.workflows:sssp_workflow.convergence.pressure)>]"
      ]
     },
     "execution_count": 7,
     "metadata": {},
     "output_type": "execute_result"
    }
   ],
   "source": [
    "[i for i in n.called if 'WorkChainNode' in i.node_type]"
   ]
  },
  {
   "cell_type": "code",
   "execution_count": 15,
   "metadata": {},
   "outputs": [
    {
     "name": "stdout",
     "output_type": "stream",
     "text": [
      "time is: 5597.110000000001\n",
      "num:  42\n"
     ]
    }
   ],
   "source": [
    "nn = orm.load_node(3183)\n",
    "all_calc = [pn for pn in nn.called_descendants if 'CalcJobNode' in pn.node_type] \n",
    "time_collect = 0.0 # in seconds\n",
    "for n in all_calc:\n",
    "    try:\n",
    "        job_exec_time = n.res.wall_time_seconds\n",
    "        job_exec_time += 10\n",
    "        time_collect += job_exec_time\n",
    "    except:\n",
    "        print(n)\n",
    "    else:\n",
    "        pass\n",
    "\n",
    "print('time is:', time_collect)\n",
    "print('num: ', len(all_calc))"
   ]
  },
  {
   "cell_type": "code",
   "execution_count": 14,
   "metadata": {},
   "outputs": [
    {
     "data": {
      "text/plain": [
       "[<CalcJobNode: uuid: c7073735-2786-4684-8eeb-2bbcc3799ce7 (pk: 3241) (aiida.calculations:quantumespresso.pw)>,\n",
       " <CalcJobNode: uuid: a653c7ee-d69c-4550-a69b-738b29eb232e (pk: 4763) (aiida.calculations:quantumespresso.ph)>,\n",
       " <CalcJobNode: uuid: 0a9f862f-8a66-471a-9b0d-44f9ed0f4c2a (pk: 12582) (aiida.calculations:quantumespresso.pw)>,\n",
       " <CalcJobNode: uuid: 863eee3c-79d1-4a38-9430-b4a35e97a667 (pk: 13418) (aiida.calculations:quantumespresso.ph)>,\n",
       " <CalcJobNode: uuid: e1715329-8857-468d-95c2-9e911e3e84c1 (pk: 12601) (aiida.calculations:quantumespresso.pw)>,\n",
       " <CalcJobNode: uuid: cf6c488e-5ff2-4294-a527-94af693ee1b6 (pk: 13298) (aiida.calculations:quantumespresso.ph)>,\n",
       " <CalcJobNode: uuid: 86077b45-ef67-4c7a-a810-a45682b36180 (pk: 12792) (aiida.calculations:quantumespresso.pw)>,\n",
       " <CalcJobNode: uuid: 0dc89eb3-dcf7-4099-95f3-67ddb1d24af8 (pk: 13463) (aiida.calculations:quantumespresso.ph)>,\n",
       " <CalcJobNode: uuid: ae2144ab-cd4a-4ce1-954c-9e164376bab6 (pk: 12802) (aiida.calculations:quantumespresso.pw)>,\n",
       " <CalcJobNode: uuid: d3fcc91c-288a-4237-ba74-862fc78bf0c9 (pk: 13313) (aiida.calculations:quantumespresso.ph)>,\n",
       " <CalcJobNode: uuid: 0c68dab6-8029-4a35-beb8-b4b8c60be87e (pk: 12660) (aiida.calculations:quantumespresso.pw)>,\n",
       " <CalcJobNode: uuid: 6df60f5d-2551-497e-94a1-43a9906c63fd (pk: 13285) (aiida.calculations:quantumespresso.ph)>,\n",
       " <CalcJobNode: uuid: 353d548b-55a6-4493-8771-bde535d944ae (pk: 12673) (aiida.calculations:quantumespresso.pw)>,\n",
       " <CalcJobNode: uuid: 2b932712-4f6c-44ca-8624-fca2fac121ae (pk: 13421) (aiida.calculations:quantumespresso.ph)>,\n",
       " <CalcJobNode: uuid: 8409c0be-820c-48ab-beda-ab612de2de86 (pk: 12810) (aiida.calculations:quantumespresso.pw)>,\n",
       " <CalcJobNode: uuid: 7885601f-e202-4d77-9bbf-3763e4aa97f2 (pk: 13466) (aiida.calculations:quantumespresso.ph)>,\n",
       " <CalcJobNode: uuid: ab7a5f12-9cf0-4959-b00c-1e23f3abcb13 (pk: 12695) (aiida.calculations:quantumespresso.pw)>,\n",
       " <CalcJobNode: uuid: 4cbba9b1-97d0-4793-bdad-1b9cf5042d98 (pk: 13331) (aiida.calculations:quantumespresso.ph)>,\n",
       " <CalcJobNode: uuid: 1accdb0a-ed33-488b-a203-4d12423e96ff (pk: 12820) (aiida.calculations:quantumespresso.pw)>,\n",
       " <CalcJobNode: uuid: 9bb4b15f-c173-49b5-b134-ea6c9d5a8832 (pk: 13383) (aiida.calculations:quantumespresso.ph)>,\n",
       " <CalcJobNode: uuid: 4999815e-67d2-4ac2-9bea-6d0e5f2db5fc (pk: 12727) (aiida.calculations:quantumespresso.pw)>,\n",
       " <CalcJobNode: uuid: 8a7d3734-6bfc-493c-ac45-7104808c38c3 (pk: 13340) (aiida.calculations:quantumespresso.ph)>,\n",
       " <CalcJobNode: uuid: 0e5a1c2e-cef3-4f4a-9346-f217a83f0d6d (pk: 12759) (aiida.calculations:quantumespresso.pw)>,\n",
       " <CalcJobNode: uuid: e11f2b1b-59d9-4fdb-a9d1-0d1bddbce7c9 (pk: 13356) (aiida.calculations:quantumespresso.ph)>,\n",
       " <CalcJobNode: uuid: 80f82409-395f-4898-97ed-723df98a116f (pk: 12834) (aiida.calculations:quantumespresso.pw)>,\n",
       " <CalcJobNode: uuid: 563a20b0-1f2c-4774-9123-cae7cd5f985a (pk: 13508) (aiida.calculations:quantumespresso.ph)>,\n",
       " <CalcJobNode: uuid: 664343fd-1afb-4d6d-a4d3-e18e91d364ae (pk: 12767) (aiida.calculations:quantumespresso.pw)>,\n",
       " <CalcJobNode: uuid: 184e7f1f-7dfd-44e6-ac41-4af348f83306 (pk: 13445) (aiida.calculations:quantumespresso.ph)>,\n",
       " <CalcJobNode: uuid: de0e1aa4-6e4f-4203-a61b-aa487497a79c (pk: 12840) (aiida.calculations:quantumespresso.pw)>,\n",
       " <CalcJobNode: uuid: 2e0ba4ee-5482-4b82-8788-ded546d944e8 (pk: 13424) (aiida.calculations:quantumespresso.ph)>,\n",
       " <CalcJobNode: uuid: a4edd4f7-a13a-4aca-a224-fb96201af40e (pk: 12795) (aiida.calculations:quantumespresso.pw)>,\n",
       " <CalcJobNode: uuid: 23964ba7-c382-422b-954f-60debb7cae34 (pk: 13374) (aiida.calculations:quantumespresso.ph)>,\n",
       " <CalcJobNode: uuid: 7ea733f9-889d-4c7c-b138-2e50c6100a2b (pk: 15600) (aiida.calculations:quantumespresso.pw)>,\n",
       " <CalcJobNode: uuid: 9c15942c-2cae-4dcc-9bce-c51b7d8049d1 (pk: 15683) (aiida.calculations:quantumespresso.ph)>,\n",
       " <CalcJobNode: uuid: 35963460-dd6f-4efe-a33b-db3542526db7 (pk: 15570) (aiida.calculations:quantumespresso.pw)>,\n",
       " <CalcJobNode: uuid: 46dcb1a6-3ad2-453a-82d7-f68639547cfc (pk: 15637) (aiida.calculations:quantumespresso.ph)>,\n",
       " <CalcJobNode: uuid: b05e9cd2-072f-4e83-be8a-ef03bc04b89f (pk: 15597) (aiida.calculations:quantumespresso.pw)>,\n",
       " <CalcJobNode: uuid: 36f4707a-b87b-44d5-adbe-43178a56e259 (pk: 15634) (aiida.calculations:quantumespresso.ph)>,\n",
       " <CalcJobNode: uuid: bbe05660-7308-4415-9d8d-c2b01e83cf08 (pk: 15588) (aiida.calculations:quantumespresso.pw)>,\n",
       " <CalcJobNode: uuid: fe4144dc-93bf-4095-9a47-f72aa2fdb8db (pk: 15652) (aiida.calculations:quantumespresso.ph)>,\n",
       " <CalcJobNode: uuid: daea7293-9671-4266-a45b-fa6ed703317d (pk: 15594) (aiida.calculations:quantumespresso.pw)>,\n",
       " <CalcJobNode: uuid: 125c2867-762e-4d0e-932b-1b9cfd38f829 (pk: 15680) (aiida.calculations:quantumespresso.ph)>]"
      ]
     },
     "execution_count": 14,
     "metadata": {},
     "output_type": "execute_result"
    }
   ],
   "source": [
    "all_calc"
   ]
  },
  {
   "cell_type": "code",
   "execution_count": 10,
   "metadata": {},
   "outputs": [
    {
     "data": {
      "text/plain": [
       "{'sealed': True,\n",
       " 'version': {'core': '1.6.8', 'plugin': '0.2.0'},\n",
       " 'exit_status': 0,\n",
       " 'process_label': 'ConvergenceCohesiveEnergyWorkChain',\n",
       " 'process_state': 'finished',\n",
       " 'stepper_state_info': '12:final_results'}"
      ]
     },
     "execution_count": 10,
     "metadata": {},
     "output_type": "execute_result"
    }
   ],
   "source": [
    "nn.attributes"
   ]
  },
  {
   "cell_type": "code",
   "execution_count": 11,
   "metadata": {},
   "outputs": [
    {
     "data": {
      "text/plain": [
       "'si/nc/z=4/dojo/v04/npool-32'"
      ]
     },
     "execution_count": 11,
     "metadata": {},
     "output_type": "execute_result"
    }
   ],
   "source": [
    "n.description"
   ]
  }
 ],
 "metadata": {
  "interpreter": {
   "hash": "0c33c62f46c80a4d391ce479eab5c3aec4580598470db715974490e2fddfe22e"
  },
  "kernelspec": {
   "display_name": "Python 3.9.6 ('aiida-sssp-dev')",
   "language": "python",
   "name": "python3"
  },
  "language_info": {
   "codemirror_mode": {
    "name": "ipython",
    "version": 3
   },
   "file_extension": ".py",
   "mimetype": "text/x-python",
   "name": "python",
   "nbconvert_exporter": "python",
   "pygments_lexer": "ipython3",
   "version": "3.9.6"
  },
  "orig_nbformat": 4
 },
 "nbformat": 4,
 "nbformat_minor": 2
}
