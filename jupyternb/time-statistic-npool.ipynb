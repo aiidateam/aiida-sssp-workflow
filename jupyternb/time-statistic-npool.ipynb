{
 "cells": [
  {
   "cell_type": "code",
   "execution_count": null,
   "metadata": {},
   "outputs": [],
   "source": [
    "import aiida\n",
    "\n",
    "aiida.load_profile(\"para-test\")"
   ]
  },
  {
   "cell_type": "code",
   "execution_count": null,
   "metadata": {},
   "outputs": [],
   "source": [
    "from aiida import orm"
   ]
  },
  {
   "cell_type": "markdown",
   "metadata": {},
   "source": [
    "```\n",
    " 859  Finished    sssp_workflow.verification  mg/nc/z=10/dojo/v04/npool-4              0\n",
    "3176  Finished    sssp_workflow.verification  si/nc/z=4/dojo/v04/npool-32              0\n",
    "3288  Finished    sssp_workflow.verification  si/nc/z=4/dojo/v04/npool-16              0\n",
    "3400  Finished    sssp_workflow.verification  si/nc/z=4/dojo/v04/npool-8               0\n",
    "3527  Finished    sssp_workflow.verification  si/paw/z=4/paw/v0.1/npool-4              0\n",
    "3647  Finished    sssp_workflow.verification  si/nc/z=4/dojo/v04/npool-4               0\n",
    "```"
   ]
  },
  {
   "cell_type": "code",
   "execution_count": null,
   "metadata": {},
   "outputs": [],
   "source": [
    "for pk in [859, 3176, 3288, 3400, 3527, 3647]:\n",
    "    n = orm.load_node(pk)\n",
    "    print(\"-------------------------------------\")\n",
    "    print(n.description)\n",
    "    # get all called sub workflow\n",
    "    wfs = [i for i in n.called if \"WorkChainNode\" in i.node_type]\n",
    "\n",
    "    for wf in wfs:\n",
    "        print(\"--\", wf.attributes[\"process_label\"])\n",
    "\n",
    "        for c in [\"Pw\", \"Ph\"]:\n",
    "            all_calc = [\n",
    "                pn\n",
    "                for pn in wf.called_descendants\n",
    "                if pn.attributes[\"process_label\"] == f\"{c}Calculation\"\n",
    "            ]\n",
    "\n",
    "            time_collect = 0.0  # in seconds\n",
    "            for n in all_calc:\n",
    "                try:\n",
    "                    job_exec_time = n.res.wall_time_seconds\n",
    "                    job_exec_time += 2  # job preparation and proper termination time\n",
    "                    time_collect += job_exec_time\n",
    "                except:\n",
    "                    print(n)\n",
    "                else:\n",
    "                    pass\n",
    "\n",
    "            print(f\"{c} time is:\", time_collect)\n",
    "            print(f\"{c} num is: \", len(all_calc))\n",
    "\n",
    "    print(\"-------------------------------------\")"
   ]
  },
  {
   "cell_type": "code",
   "execution_count": null,
   "metadata": {},
   "outputs": [],
   "source": [
    "[i for i in n.called if \"WorkChainNode\" in i.node_type]"
   ]
  },
  {
   "cell_type": "code",
   "execution_count": null,
   "metadata": {},
   "outputs": [],
   "source": [
    "nn = orm.load_node(3183)\n",
    "all_calc = [pn for pn in nn.called_descendants if \"CalcJobNode\" in pn.node_type]\n",
    "time_collect = 0.0  # in seconds\n",
    "for n in all_calc:\n",
    "    try:\n",
    "        job_exec_time = n.res.wall_time_seconds\n",
    "        job_exec_time += 10\n",
    "        time_collect += job_exec_time\n",
    "    except:\n",
    "        print(n)\n",
    "    else:\n",
    "        pass\n",
    "\n",
    "print(\"time is:\", time_collect)\n",
    "print(\"num: \", len(all_calc))"
   ]
  },
  {
   "cell_type": "code",
   "execution_count": null,
   "metadata": {},
   "outputs": [],
   "source": [
    "all_calc"
   ]
  },
  {
   "cell_type": "code",
   "execution_count": null,
   "metadata": {},
   "outputs": [],
   "source": [
    "nn.attributes"
   ]
  },
  {
   "cell_type": "code",
   "execution_count": null,
   "metadata": {},
   "outputs": [],
   "source": [
    "n.description"
   ]
  }
 ],
 "metadata": {
  "interpreter": {
   "hash": "0c33c62f46c80a4d391ce479eab5c3aec4580598470db715974490e2fddfe22e"
  },
  "kernelspec": {
   "display_name": "Python 3.9.6 ('aiida-sssp-dev')",
   "language": "python",
   "name": "python3"
  },
  "language_info": {
   "codemirror_mode": {
    "name": "ipython",
    "version": 3
   },
   "file_extension": ".py",
   "mimetype": "text/x-python",
   "name": "python",
   "nbconvert_exporter": "python",
   "pygments_lexer": "ipython3",
   "version": "3.9.6"
  },
  "orig_nbformat": 4
 },
 "nbformat": 4,
 "nbformat_minor": 2
}
