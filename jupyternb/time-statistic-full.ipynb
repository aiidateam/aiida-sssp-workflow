{
 "cells": [
  {
   "cell_type": "code",
   "execution_count": null,
   "metadata": {},
   "outputs": [],
   "source": [
    "import aiida\n",
    "\n",
    "aiida.load_profile(\"prod-22-04-03\")"
   ]
  },
  {
   "cell_type": "code",
   "execution_count": null,
   "metadata": {},
   "outputs": [],
   "source": [
    "from aiida import orm"
   ]
  },
  {
   "cell_type": "markdown",
   "metadata": {},
   "source": [
    "where the verification workchain pk=33350 calls:\n",
    "\n",
    "```\n",
    "Called       PK  Type\n",
    "--------  -----  -------------------------------------\n",
    "CALL      33351  parse_pseudo_info\n",
    "CALL      33356  DeltaMeasureWorkChain\n",
    "CALL      33357  BandsMeasureWorkChain\n",
    "CALL      37106  _CachingConvergenceWorkChain\n",
    "CALL      38552  ConvergenceCohesiveEnergyWorkChain\n",
    "CALL      38553  ConvergencePhononFrequenciesWorkChain\n",
    "CALL      38555  ConvergencePressureWorkChain\n",
    "CALL      38557  ConvergenceDeltaWorkChain\n",
    "CALL      38569  ConvergenceBandsWorkChain\n",
    "```"
   ]
  },
  {
   "cell_type": "code",
   "execution_count": null,
   "metadata": {},
   "outputs": [],
   "source": [
    "# The si/nc npool-8 full run is pk=33350\n",
    "# full time colletion pw+ph\n",
    "n = orm.load_node(33350)\n",
    "all_pw = [pn for pn in n.called_descendants if \"CalcJobNode\" in pn.node_type]\n",
    "\n",
    "time_collect = 0.0  # in seconds\n",
    "for n in all_pw:\n",
    "    try:\n",
    "        job_exec_time = n.res.wall_time_seconds\n",
    "        job_exec_time += 20\n",
    "        time_collect += job_exec_time\n",
    "    except:\n",
    "        print(n)\n",
    "    else:\n",
    "        pass\n",
    "\n",
    "print(\"time is:\", time_collect)\n",
    "print(\"num: \", len(all_pw))"
   ]
  },
  {
   "cell_type": "code",
   "execution_count": null,
   "metadata": {},
   "outputs": [],
   "source": [
    "# The si/nc npool-8 full run is pk=33350\n",
    "n = orm.load_node(33350)\n",
    "all_pw = [\n",
    "    pn\n",
    "    for pn in n.called_descendants\n",
    "    if pn.attributes[\"process_label\"] == \"PwCalculation\"\n",
    "]\n",
    "\n",
    "time_collect = 0.0  # in seconds\n",
    "for n in all_pw:\n",
    "    try:\n",
    "        job_exec_time = n.res.wall_time_seconds\n",
    "        job_exec_time += 20\n",
    "        time_collect += job_exec_time\n",
    "    except:\n",
    "        print(n)\n",
    "    else:\n",
    "        pass\n",
    "\n",
    "print(\"time is:\", time_collect)\n",
    "print(\"num: \", len(all_pw))"
   ]
  },
  {
   "cell_type": "code",
   "execution_count": null,
   "metadata": {},
   "outputs": [],
   "source": [
    "# The si/nc npool-8 full run is pk=33350\n",
    "n = orm.load_node(33350)\n",
    "all_pw = [\n",
    "    pn\n",
    "    for pn in n.called_descendants\n",
    "    if pn.attributes[\"process_label\"] == \"PhCalculation\"\n",
    "]\n",
    "\n",
    "time_collect = 0.0  # in seconds\n",
    "for n in all_pw:\n",
    "    try:\n",
    "        job_exec_time = n.res.wall_time_seconds\n",
    "        job_exec_time += 20\n",
    "        time_collect += job_exec_time\n",
    "    except:\n",
    "        print(n)\n",
    "    else:\n",
    "        pass\n",
    "\n",
    "print(\"time is:\", time_collect)\n",
    "print(\"num: \", len(all_pw))"
   ]
  },
  {
   "cell_type": "code",
   "execution_count": null,
   "metadata": {},
   "outputs": [],
   "source": [
    "# The si/nc npool-8 full run is pk=33350\n",
    "wf_dict = {\n",
    "    \"delta_measure\": 33356,\n",
    "    \"bands_measure\": 33357,\n",
    "    \"coh_conv\": 38552,\n",
    "    \"phonon_conv\": 38553,\n",
    "    \"pressure_conv\": 38555,\n",
    "    \"delta_conv\": 38557,\n",
    "    \"bands_conv\": 38569,\n",
    "}\n",
    "\n",
    "for k, v in wf_dict.items():\n",
    "    n = orm.load_node(v)\n",
    "    all_pw = [pn for pn in n.called_descendants if \"CalcJobNode\" in pn.node_type]\n",
    "\n",
    "    time_collect = 0.0  # in seconds\n",
    "    for n in all_pw:\n",
    "        try:\n",
    "            job_exec_time = n.res.wall_time_seconds\n",
    "            job_exec_time += 20\n",
    "            time_collect += job_exec_time\n",
    "        except:\n",
    "            # print(n)\n",
    "            pass\n",
    "        else:\n",
    "            pass\n",
    "\n",
    "    print(f\"------({k})---------\")\n",
    "    print(\"time is:\", time_collect)\n",
    "    print(\"num: \", len(all_pw))\n",
    "    print()"
   ]
  },
  {
   "cell_type": "code",
   "execution_count": null,
   "metadata": {},
   "outputs": [],
   "source": [
    "# The si/nc npool-8 full run is caching wc pk=37106\n",
    "ns = [\n",
    "    37754,\n",
    "    37762,\n",
    "    37775,\n",
    "    37790,\n",
    "    37804,\n",
    "    37823,\n",
    "    37834,\n",
    "    37852,\n",
    "    37862,\n",
    "    37881,\n",
    "    37900,\n",
    "    37915,\n",
    "    37927,\n",
    "    37939,\n",
    "    37962,\n",
    "]\n",
    "save_time = 0.0\n",
    "for n in ns:\n",
    "    n = orm.load_node(n)\n",
    "    all_pw = [pn for pn in n.called_descendants if \"CalcJobNode\" in pn.node_type]\n",
    "\n",
    "    time_collect = 0.0  # in seconds\n",
    "    for n in all_pw:\n",
    "        try:\n",
    "            job_exec_time = n.res.wall_time_seconds\n",
    "            job_exec_time += 20\n",
    "            time_collect += job_exec_time\n",
    "        except:\n",
    "            print(n)\n",
    "        else:\n",
    "            pass\n",
    "\n",
    "    # print('time is:', time_collect)\n",
    "    # print('num: ', len(all_pw))\n",
    "    save_time += time_collect\n",
    "\n",
    "print(save_time)"
   ]
  }
 ],
 "metadata": {
  "interpreter": {
   "hash": "0c33c62f46c80a4d391ce479eab5c3aec4580598470db715974490e2fddfe22e"
  },
  "kernelspec": {
   "display_name": "Python 3.9.6 ('aiida-sssp-dev')",
   "language": "python",
   "name": "python3"
  },
  "language_info": {
   "codemirror_mode": {
    "name": "ipython",
    "version": 3
   },
   "file_extension": ".py",
   "mimetype": "text/x-python",
   "name": "python",
   "nbconvert_exporter": "python",
   "pygments_lexer": "ipython3",
   "version": "3.9.6"
  }
 },
 "nbformat": 4,
 "nbformat_minor": 2
}
