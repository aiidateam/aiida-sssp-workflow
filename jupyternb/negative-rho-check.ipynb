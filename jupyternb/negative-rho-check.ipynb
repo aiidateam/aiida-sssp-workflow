{
 "cells": [
  {
   "cell_type": "code",
   "execution_count": 1,
   "metadata": {},
   "outputs": [
    {
     "data": {
      "text/plain": [
       "<aiida.manage.configuration.profile.Profile at 0x7f8a5b4503d0>"
      ]
     },
     "execution_count": 1,
     "metadata": {},
     "output_type": "execute_result"
    }
   ],
   "source": [
    "import aiida\n",
    "from aiida import orm\n",
    "\n",
    "aiida.load_profile('prod-22-04-07')"
   ]
  },
  {
   "cell_type": "code",
   "execution_count": 2,
   "metadata": {},
   "outputs": [],
   "source": [
    "delta_workchain = orm.load_node(26736)\n",
    "all_pw = [pn for pn in delta_workchain.called_descendants if 'CalcJobNode' in pn.node_type]"
   ]
  },
  {
   "cell_type": "code",
   "execution_count": 7,
   "metadata": {},
   "outputs": [],
   "source": [
    "calcjob = all_pw[0]"
   ]
  },
  {
   "cell_type": "code",
   "execution_count": 15,
   "metadata": {},
   "outputs": [
    {
     "name": "stdout",
     "output_type": "stream",
     "text": [
      "uuid: 3e32ea65-60f0-49d7-a1f5-bfef41c34317 (pk: 26874) (aiida.calculations:quantumespresso.pw)\n"
     ]
    }
   ],
   "source": [
    "retrieved = calcjob.outputs.retrieved\n",
    "path = calcjob.get_option('output_filename')\n",
    "with retrieved.open(path, mode='r') as fhandle:\n",
    "    if 'negative rho' in fhandle.read():\n",
    "        print(calcjob)\n"
   ]
  },
  {
   "cell_type": "code",
   "execution_count": 9,
   "metadata": {},
   "outputs": [
    {
     "data": {
      "text/plain": [
       "'aiida.out'"
      ]
     },
     "execution_count": 9,
     "metadata": {},
     "output_type": "execute_result"
    }
   ],
   "source": [
    "path"
   ]
  }
 ],
 "metadata": {
  "interpreter": {
   "hash": "0c33c62f46c80a4d391ce479eab5c3aec4580598470db715974490e2fddfe22e"
  },
  "kernelspec": {
   "display_name": "Python 3.9.6 ('aiida-sssp-dev')",
   "language": "python",
   "name": "python3"
  },
  "language_info": {
   "codemirror_mode": {
    "name": "ipython",
    "version": 3
   },
   "file_extension": ".py",
   "mimetype": "text/x-python",
   "name": "python",
   "nbconvert_exporter": "python",
   "pygments_lexer": "ipython3",
   "version": "3.9.6"
  },
  "orig_nbformat": 4
 },
 "nbformat": 4,
 "nbformat_minor": 2
}
