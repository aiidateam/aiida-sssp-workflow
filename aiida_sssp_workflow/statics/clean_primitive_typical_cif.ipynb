{
 "cells": [
  {
   "cell_type": "code",
   "execution_count": null,
   "metadata": {},
   "outputs": [],
   "source": [
    "# From downloaded cifs folder of Cottinier paper.\n",
    "# I primitive them for convergence test only.\n",
    "# We can do this since these structures orginally used also for delta factor calculation but now only for convergence test."
   ]
  },
  {
   "cell_type": "code",
   "execution_count": null,
   "metadata": {},
   "outputs": [],
   "source": [
    "from pymatgen.io.cif import CifParser, CifWriter\n",
    "import os\n",
    "\n",
    "from aiida_sssp_workflow.utils import MAGNETIC_ELEMENTS"
   ]
  },
  {
   "cell_type": "code",
   "execution_count": null,
   "metadata": {},
   "outputs": [],
   "source": [
    "folder = os.path.abspath(\"./cif/typical/\")"
   ]
  },
  {
   "cell_type": "code",
   "execution_count": null,
   "metadata": {},
   "outputs": [],
   "source": [
    "! mkdir -p cif/typical_new\n",
    "! touch cif/typical_new/__init__.py"
   ]
  },
  {
   "cell_type": "code",
   "execution_count": null,
   "metadata": {},
   "outputs": [],
   "source": [
    "for filename in os.listdir(folder):\n",
    "    element, ext = os.path.splitext(filename)\n",
    "    if ext != \".cif\":\n",
    "        continue\n",
    "    path = os.path.join(folder, filename)\n",
    "    cif = CifParser(filename=path)\n",
    "\n",
    "    if element in MAGNETIC_ELEMENTS:\n",
    "        # since we need set start_magnetization for\n",
    "        # magnetic elements\n",
    "        primitive = False\n",
    "    else:\n",
    "        primitive = True\n",
    "\n",
    "    structure = cif.get_structures(primitive=primitive)[0]\n",
    "    cif_w = CifWriter(structure, refine_struct=False)\n",
    "\n",
    "    cif_w.write_file(f\"./cif/typical_new/{filename}\")"
   ]
  },
  {
   "cell_type": "code",
   "execution_count": null,
   "metadata": {},
   "outputs": [],
   "source": [
    "! rm -rf cif/typical && mv -f cif/typical_new cif/typical"
   ]
  },
  {
   "cell_type": "code",
   "execution_count": null,
   "metadata": {},
   "outputs": [],
   "source": []
  }
 ],
 "metadata": {
  "interpreter": {
   "hash": "0c33c62f46c80a4d391ce479eab5c3aec4580598470db715974490e2fddfe22e"
  },
  "kernelspec": {
   "display_name": "Python 3.9.6 ('aiida-sssp-dev')",
   "language": "python",
   "name": "python3"
  },
  "language_info": {
   "codemirror_mode": {
    "name": "ipython",
    "version": 3
   },
   "file_extension": ".py",
   "mimetype": "text/x-python",
   "name": "python",
   "nbconvert_exporter": "python",
   "pygments_lexer": "ipython3",
   "version": "3.9.6"
  }
 },
 "nbformat": 4,
 "nbformat_minor": 2
}
