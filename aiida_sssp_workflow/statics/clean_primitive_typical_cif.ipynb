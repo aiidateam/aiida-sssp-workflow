{
 "cells": [
  {
   "cell_type": "code",
   "execution_count": 1,
   "metadata": {},
   "outputs": [],
   "source": [
    "from pymatgen.io.cif import CifParser, CifWriter\n",
    "from pymatgen.symmetry.analyzer import SpacegroupAnalyzer\n",
    "import os"
   ]
  },
  {
   "cell_type": "markdown",
   "metadata": {},
   "source": []
  },
  {
   "cell_type": "code",
   "execution_count": 2,
   "metadata": {},
   "outputs": [],
   "source": [
    "folder = os.path.abspath('./cif/typical/')"
   ]
  },
  {
   "cell_type": "code",
   "execution_count": 6,
   "metadata": {},
   "outputs": [],
   "source": [
    "for filename in os.listdir(folder):\n",
    "    element, ext = os.path.splitext(filename)\n",
    "    if ext != '.cif':\n",
    "        continue\n",
    "    path = os.path.join(folder, filename)\n",
    "    cif = CifParser(filename=path)\n",
    "    \n",
    "    structure = cif.get_structures(primitive=True)[0]\n",
    "    cif_w = CifWriter(structure, refine_struct=False)\n",
    "\n",
    "    cif_w.write_file(f\"./cif/typical_new/{filename}\")"
   ]
  },
  {
   "cell_type": "code",
   "execution_count": null,
   "metadata": {},
   "outputs": [],
   "source": []
  },
  {
   "cell_type": "code",
   "execution_count": null,
   "metadata": {},
   "outputs": [],
   "source": []
  }
 ],
 "metadata": {
  "interpreter": {
   "hash": "0c33c62f46c80a4d391ce479eab5c3aec4580598470db715974490e2fddfe22e"
  },
  "kernelspec": {
   "display_name": "Python 3.9.6 ('aiida-sssp-dev')",
   "language": "python",
   "name": "python3"
  },
  "language_info": {
   "codemirror_mode": {
    "name": "ipython",
    "version": 3
   },
   "file_extension": ".py",
   "mimetype": "text/x-python",
   "name": "python",
   "nbconvert_exporter": "python",
   "pygments_lexer": "ipython3",
   "version": "3.9.6"
  },
  "orig_nbformat": 4
 },
 "nbformat": 4,
 "nbformat_minor": 2
}
